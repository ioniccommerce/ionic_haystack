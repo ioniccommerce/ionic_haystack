{
 "cells": [
  {
   "cell_type": "markdown",
   "source": [
    "# Ionic Commerce Tool for Haystack\n",
    "\n",
    "[![Open In Colab](https://colab.research.google.com/assets/colab-badge.svg)](https://colab.research.google.com/github/ioniccommerce/ionic_haystack/blob/main/examples/example_ionic_agent.ipynb)\n"
   ],
   "metadata": {
    "collapsed": false,
    "id": "e2484f9d54d39cf8"
   },
   "id": "e2484f9d54d39cf8"
  },
  {
   "cell_type": "code",
   "outputs": [
    {
     "name": "stdout",
     "output_type": "stream",
     "text": [
      "Requirement already satisfied: pip in /Users/jarod/Projects/ionic_haystack/.venv/lib/python3.11/site-packages (23.3.2)\n",
      "Requirement already satisfied: farm-haystack[colab] in /Users/jarod/Projects/ionic_haystack/.venv/lib/python3.11/site-packages (1.24.0)\n",
      "Requirement already satisfied: boilerpy3 in /Users/jarod/Projects/ionic_haystack/.venv/lib/python3.11/site-packages (from farm-haystack[colab]) (1.0.7)\n",
      "Requirement already satisfied: events in /Users/jarod/Projects/ionic_haystack/.venv/lib/python3.11/site-packages (from farm-haystack[colab]) (0.5)\n",
      "Requirement already satisfied: httpx in /Users/jarod/Projects/ionic_haystack/.venv/lib/python3.11/site-packages (from farm-haystack[colab]) (0.26.0)\n",
      "Requirement already satisfied: jsonschema in /Users/jarod/Projects/ionic_haystack/.venv/lib/python3.11/site-packages (from farm-haystack[colab]) (4.21.1)\n",
      "Requirement already satisfied: lazy-imports==0.3.1 in /Users/jarod/Projects/ionic_haystack/.venv/lib/python3.11/site-packages (from farm-haystack[colab]) (0.3.1)\n",
      "Requirement already satisfied: more-itertools in /Users/jarod/Projects/ionic_haystack/.venv/lib/python3.11/site-packages (from farm-haystack[colab]) (10.2.0)\n",
      "Requirement already satisfied: networkx in /Users/jarod/Projects/ionic_haystack/.venv/lib/python3.11/site-packages (from farm-haystack[colab]) (3.1)\n",
      "Requirement already satisfied: pandas in /Users/jarod/Projects/ionic_haystack/.venv/lib/python3.11/site-packages (from farm-haystack[colab]) (2.0.3)\n",
      "Requirement already satisfied: pillow in /Users/jarod/Projects/ionic_haystack/.venv/lib/python3.11/site-packages (from farm-haystack[colab]) (9.0.0)\n",
      "Requirement already satisfied: platformdirs in /Users/jarod/Projects/ionic_haystack/.venv/lib/python3.11/site-packages (from farm-haystack[colab]) (4.2.0)\n",
      "Requirement already satisfied: posthog in /Users/jarod/Projects/ionic_haystack/.venv/lib/python3.11/site-packages (from farm-haystack[colab]) (3.3.4)\n",
      "Requirement already satisfied: prompthub-py==4.0.0 in /Users/jarod/Projects/ionic_haystack/.venv/lib/python3.11/site-packages (from farm-haystack[colab]) (4.0.0)\n",
      "Requirement already satisfied: pydantic<2 in /Users/jarod/Projects/ionic_haystack/.venv/lib/python3.11/site-packages (from farm-haystack[colab]) (1.10.14)\n",
      "Requirement already satisfied: quantulum3 in /Users/jarod/Projects/ionic_haystack/.venv/lib/python3.11/site-packages (from farm-haystack[colab]) (0.9.0)\n",
      "Requirement already satisfied: rank-bm25 in /Users/jarod/Projects/ionic_haystack/.venv/lib/python3.11/site-packages (from farm-haystack[colab]) (0.2.2)\n",
      "Requirement already satisfied: requests in /Users/jarod/Projects/ionic_haystack/.venv/lib/python3.11/site-packages (from farm-haystack[colab]) (2.31.0)\n",
      "Requirement already satisfied: requests-cache<1.0.0 in /Users/jarod/Projects/ionic_haystack/.venv/lib/python3.11/site-packages (from farm-haystack[colab]) (0.9.8)\n",
      "Requirement already satisfied: scikit-learn>=1.3.0 in /Users/jarod/Projects/ionic_haystack/.venv/lib/python3.11/site-packages (from farm-haystack[colab]) (1.3.2)\n",
      "Requirement already satisfied: sseclient-py in /Users/jarod/Projects/ionic_haystack/.venv/lib/python3.11/site-packages (from farm-haystack[colab]) (1.8.0)\n",
      "Requirement already satisfied: tenacity in /Users/jarod/Projects/ionic_haystack/.venv/lib/python3.11/site-packages (from farm-haystack[colab]) (8.2.3)\n",
      "Requirement already satisfied: tiktoken>=0.5.1 in /Users/jarod/Projects/ionic_haystack/.venv/lib/python3.11/site-packages (from farm-haystack[colab]) (0.5.2)\n",
      "Requirement already satisfied: tqdm in /Users/jarod/Projects/ionic_haystack/.venv/lib/python3.11/site-packages (from farm-haystack[colab]) (4.66.1)\n",
      "Requirement already satisfied: transformers==4.36.2 in /Users/jarod/Projects/ionic_haystack/.venv/lib/python3.11/site-packages (from farm-haystack[colab]) (4.36.2)\n",
      "Requirement already satisfied: pyyaml<7.0,>=6.0 in /Users/jarod/Projects/ionic_haystack/.venv/lib/python3.11/site-packages (from prompthub-py==4.0.0->farm-haystack[colab]) (6.0.1)\n",
      "Requirement already satisfied: filelock in /Users/jarod/Projects/ionic_haystack/.venv/lib/python3.11/site-packages (from transformers==4.36.2->farm-haystack[colab]) (3.13.1)\n",
      "Requirement already satisfied: huggingface-hub<1.0,>=0.19.3 in /Users/jarod/Projects/ionic_haystack/.venv/lib/python3.11/site-packages (from transformers==4.36.2->farm-haystack[colab]) (0.20.3)\n",
      "Requirement already satisfied: numpy>=1.17 in /Users/jarod/Projects/ionic_haystack/.venv/lib/python3.11/site-packages (from transformers==4.36.2->farm-haystack[colab]) (1.24.4)\n",
      "Requirement already satisfied: packaging>=20.0 in /Users/jarod/Projects/ionic_haystack/.venv/lib/python3.11/site-packages (from transformers==4.36.2->farm-haystack[colab]) (23.2)\n",
      "Requirement already satisfied: regex!=2019.12.17 in /Users/jarod/Projects/ionic_haystack/.venv/lib/python3.11/site-packages (from transformers==4.36.2->farm-haystack[colab]) (2023.12.25)\n",
      "Requirement already satisfied: tokenizers<0.19,>=0.14 in /Users/jarod/Projects/ionic_haystack/.venv/lib/python3.11/site-packages (from transformers==4.36.2->farm-haystack[colab]) (0.15.1)\n",
      "Requirement already satisfied: safetensors>=0.3.1 in /Users/jarod/Projects/ionic_haystack/.venv/lib/python3.11/site-packages (from transformers==4.36.2->farm-haystack[colab]) (0.4.2)\n",
      "Requirement already satisfied: typing-extensions>=4.2.0 in /Users/jarod/Projects/ionic_haystack/.venv/lib/python3.11/site-packages (from pydantic<2->farm-haystack[colab]) (4.9.0)\n",
      "Requirement already satisfied: charset-normalizer<4,>=2 in /Users/jarod/Projects/ionic_haystack/.venv/lib/python3.11/site-packages (from requests->farm-haystack[colab]) (3.3.2)\n",
      "Requirement already satisfied: idna<4,>=2.5 in /Users/jarod/Projects/ionic_haystack/.venv/lib/python3.11/site-packages (from requests->farm-haystack[colab]) (3.6)\n",
      "Requirement already satisfied: urllib3<3,>=1.21.1 in /Users/jarod/Projects/ionic_haystack/.venv/lib/python3.11/site-packages (from requests->farm-haystack[colab]) (2.2.0)\n",
      "Requirement already satisfied: certifi>=2017.4.17 in /Users/jarod/Projects/ionic_haystack/.venv/lib/python3.11/site-packages (from requests->farm-haystack[colab]) (2023.11.17)\n",
      "Requirement already satisfied: appdirs>=1.4.4 in /Users/jarod/Projects/ionic_haystack/.venv/lib/python3.11/site-packages (from requests-cache<1.0.0->farm-haystack[colab]) (1.4.4)\n",
      "Requirement already satisfied: attrs>=21.2 in /Users/jarod/Projects/ionic_haystack/.venv/lib/python3.11/site-packages (from requests-cache<1.0.0->farm-haystack[colab]) (23.2.0)\n",
      "Requirement already satisfied: cattrs>=22.2 in /Users/jarod/Projects/ionic_haystack/.venv/lib/python3.11/site-packages (from requests-cache<1.0.0->farm-haystack[colab]) (23.2.3)\n",
      "Requirement already satisfied: url-normalize>=1.4 in /Users/jarod/Projects/ionic_haystack/.venv/lib/python3.11/site-packages (from requests-cache<1.0.0->farm-haystack[colab]) (1.4.3)\n",
      "Requirement already satisfied: scipy>=1.5.0 in /Users/jarod/Projects/ionic_haystack/.venv/lib/python3.11/site-packages (from scikit-learn>=1.3.0->farm-haystack[colab]) (1.9.3)\n",
      "Requirement already satisfied: joblib>=1.1.1 in /Users/jarod/Projects/ionic_haystack/.venv/lib/python3.11/site-packages (from scikit-learn>=1.3.0->farm-haystack[colab]) (1.3.2)\n",
      "Requirement already satisfied: threadpoolctl>=2.0.0 in /Users/jarod/Projects/ionic_haystack/.venv/lib/python3.11/site-packages (from scikit-learn>=1.3.0->farm-haystack[colab]) (3.2.0)\n",
      "Requirement already satisfied: anyio in /Users/jarod/Projects/ionic_haystack/.venv/lib/python3.11/site-packages (from httpx->farm-haystack[colab]) (4.2.0)\n",
      "Requirement already satisfied: httpcore==1.* in /Users/jarod/Projects/ionic_haystack/.venv/lib/python3.11/site-packages (from httpx->farm-haystack[colab]) (1.0.2)\n",
      "Requirement already satisfied: sniffio in /Users/jarod/Projects/ionic_haystack/.venv/lib/python3.11/site-packages (from httpx->farm-haystack[colab]) (1.3.0)\n",
      "Requirement already satisfied: h11<0.15,>=0.13 in /Users/jarod/Projects/ionic_haystack/.venv/lib/python3.11/site-packages (from httpcore==1.*->httpx->farm-haystack[colab]) (0.14.0)\n",
      "Requirement already satisfied: jsonschema-specifications>=2023.03.6 in /Users/jarod/Projects/ionic_haystack/.venv/lib/python3.11/site-packages (from jsonschema->farm-haystack[colab]) (2023.12.1)\n",
      "Requirement already satisfied: referencing>=0.28.4 in /Users/jarod/Projects/ionic_haystack/.venv/lib/python3.11/site-packages (from jsonschema->farm-haystack[colab]) (0.33.0)\n",
      "Requirement already satisfied: rpds-py>=0.7.1 in /Users/jarod/Projects/ionic_haystack/.venv/lib/python3.11/site-packages (from jsonschema->farm-haystack[colab]) (0.17.1)\n",
      "Requirement already satisfied: python-dateutil>=2.8.2 in /Users/jarod/Projects/ionic_haystack/.venv/lib/python3.11/site-packages (from pandas->farm-haystack[colab]) (2.8.2)\n",
      "Requirement already satisfied: pytz>=2020.1 in /Users/jarod/Projects/ionic_haystack/.venv/lib/python3.11/site-packages (from pandas->farm-haystack[colab]) (2023.4)\n",
      "Requirement already satisfied: tzdata>=2022.1 in /Users/jarod/Projects/ionic_haystack/.venv/lib/python3.11/site-packages (from pandas->farm-haystack[colab]) (2023.4)\n",
      "Requirement already satisfied: six>=1.5 in /Users/jarod/Projects/ionic_haystack/.venv/lib/python3.11/site-packages (from posthog->farm-haystack[colab]) (1.16.0)\n",
      "Requirement already satisfied: monotonic>=1.5 in /Users/jarod/Projects/ionic_haystack/.venv/lib/python3.11/site-packages (from posthog->farm-haystack[colab]) (1.6)\n",
      "Requirement already satisfied: backoff>=1.10.0 in /Users/jarod/Projects/ionic_haystack/.venv/lib/python3.11/site-packages (from posthog->farm-haystack[colab]) (2.2.1)\n",
      "Requirement already satisfied: inflect in /Users/jarod/Projects/ionic_haystack/.venv/lib/python3.11/site-packages (from quantulum3->farm-haystack[colab]) (7.0.0)\n",
      "Requirement already satisfied: num2words in /Users/jarod/Projects/ionic_haystack/.venv/lib/python3.11/site-packages (from quantulum3->farm-haystack[colab]) (0.5.13)\n",
      "Requirement already satisfied: fsspec>=2023.5.0 in /Users/jarod/Projects/ionic_haystack/.venv/lib/python3.11/site-packages (from huggingface-hub<1.0,>=0.19.3->transformers==4.36.2->farm-haystack[colab]) (2023.12.2)\n",
      "Requirement already satisfied: docopt>=0.6.2 in /Users/jarod/Projects/ionic_haystack/.venv/lib/python3.11/site-packages (from num2words->quantulum3->farm-haystack[colab]) (0.6.2)\n",
      "Requirement already satisfied: ionic-haystack==0.1.3 in /Users/jarod/Projects/ionic_haystack/.venv/lib/python3.11/site-packages (0.1.3)\n",
      "Requirement already satisfied: Ionic-API-SDK<0.8.0,>=0.7.1 in /Users/jarod/Projects/ionic_haystack/.venv/lib/python3.11/site-packages (from ionic-haystack==0.1.3) (0.7.1)\n",
      "Requirement already satisfied: farm-haystack<2.0.0,>=1.24.0 in /Users/jarod/Projects/ionic_haystack/.venv/lib/python3.11/site-packages (from ionic-haystack==0.1.3) (1.24.0)\n",
      "Requirement already satisfied: boilerpy3 in /Users/jarod/Projects/ionic_haystack/.venv/lib/python3.11/site-packages (from farm-haystack<2.0.0,>=1.24.0->ionic-haystack==0.1.3) (1.0.7)\n",
      "Requirement already satisfied: events in /Users/jarod/Projects/ionic_haystack/.venv/lib/python3.11/site-packages (from farm-haystack<2.0.0,>=1.24.0->ionic-haystack==0.1.3) (0.5)\n",
      "Requirement already satisfied: httpx in /Users/jarod/Projects/ionic_haystack/.venv/lib/python3.11/site-packages (from farm-haystack<2.0.0,>=1.24.0->ionic-haystack==0.1.3) (0.26.0)\n",
      "Requirement already satisfied: jsonschema in /Users/jarod/Projects/ionic_haystack/.venv/lib/python3.11/site-packages (from farm-haystack<2.0.0,>=1.24.0->ionic-haystack==0.1.3) (4.21.1)\n",
      "Requirement already satisfied: lazy-imports==0.3.1 in /Users/jarod/Projects/ionic_haystack/.venv/lib/python3.11/site-packages (from farm-haystack<2.0.0,>=1.24.0->ionic-haystack==0.1.3) (0.3.1)\n",
      "Requirement already satisfied: more-itertools in /Users/jarod/Projects/ionic_haystack/.venv/lib/python3.11/site-packages (from farm-haystack<2.0.0,>=1.24.0->ionic-haystack==0.1.3) (10.2.0)\n",
      "Requirement already satisfied: networkx in /Users/jarod/Projects/ionic_haystack/.venv/lib/python3.11/site-packages (from farm-haystack<2.0.0,>=1.24.0->ionic-haystack==0.1.3) (3.1)\n",
      "Requirement already satisfied: pandas in /Users/jarod/Projects/ionic_haystack/.venv/lib/python3.11/site-packages (from farm-haystack<2.0.0,>=1.24.0->ionic-haystack==0.1.3) (2.0.3)\n",
      "Requirement already satisfied: pillow in /Users/jarod/Projects/ionic_haystack/.venv/lib/python3.11/site-packages (from farm-haystack<2.0.0,>=1.24.0->ionic-haystack==0.1.3) (9.0.0)\n",
      "Requirement already satisfied: platformdirs in /Users/jarod/Projects/ionic_haystack/.venv/lib/python3.11/site-packages (from farm-haystack<2.0.0,>=1.24.0->ionic-haystack==0.1.3) (4.2.0)\n",
      "Requirement already satisfied: posthog in /Users/jarod/Projects/ionic_haystack/.venv/lib/python3.11/site-packages (from farm-haystack<2.0.0,>=1.24.0->ionic-haystack==0.1.3) (3.3.4)\n",
      "Requirement already satisfied: prompthub-py==4.0.0 in /Users/jarod/Projects/ionic_haystack/.venv/lib/python3.11/site-packages (from farm-haystack<2.0.0,>=1.24.0->ionic-haystack==0.1.3) (4.0.0)\n",
      "Requirement already satisfied: pydantic<2 in /Users/jarod/Projects/ionic_haystack/.venv/lib/python3.11/site-packages (from farm-haystack<2.0.0,>=1.24.0->ionic-haystack==0.1.3) (1.10.14)\n",
      "Requirement already satisfied: quantulum3 in /Users/jarod/Projects/ionic_haystack/.venv/lib/python3.11/site-packages (from farm-haystack<2.0.0,>=1.24.0->ionic-haystack==0.1.3) (0.9.0)\n",
      "Requirement already satisfied: rank-bm25 in /Users/jarod/Projects/ionic_haystack/.venv/lib/python3.11/site-packages (from farm-haystack<2.0.0,>=1.24.0->ionic-haystack==0.1.3) (0.2.2)\n",
      "Requirement already satisfied: requests in /Users/jarod/Projects/ionic_haystack/.venv/lib/python3.11/site-packages (from farm-haystack<2.0.0,>=1.24.0->ionic-haystack==0.1.3) (2.31.0)\n",
      "Requirement already satisfied: requests-cache<1.0.0 in /Users/jarod/Projects/ionic_haystack/.venv/lib/python3.11/site-packages (from farm-haystack<2.0.0,>=1.24.0->ionic-haystack==0.1.3) (0.9.8)\n",
      "Requirement already satisfied: scikit-learn>=1.3.0 in /Users/jarod/Projects/ionic_haystack/.venv/lib/python3.11/site-packages (from farm-haystack<2.0.0,>=1.24.0->ionic-haystack==0.1.3) (1.3.2)\n",
      "Requirement already satisfied: sseclient-py in /Users/jarod/Projects/ionic_haystack/.venv/lib/python3.11/site-packages (from farm-haystack<2.0.0,>=1.24.0->ionic-haystack==0.1.3) (1.8.0)\n",
      "Requirement already satisfied: tenacity in /Users/jarod/Projects/ionic_haystack/.venv/lib/python3.11/site-packages (from farm-haystack<2.0.0,>=1.24.0->ionic-haystack==0.1.3) (8.2.3)\n",
      "Requirement already satisfied: tiktoken>=0.5.1 in /Users/jarod/Projects/ionic_haystack/.venv/lib/python3.11/site-packages (from farm-haystack<2.0.0,>=1.24.0->ionic-haystack==0.1.3) (0.5.2)\n",
      "Requirement already satisfied: tqdm in /Users/jarod/Projects/ionic_haystack/.venv/lib/python3.11/site-packages (from farm-haystack<2.0.0,>=1.24.0->ionic-haystack==0.1.3) (4.66.1)\n",
      "Requirement already satisfied: transformers==4.36.2 in /Users/jarod/Projects/ionic_haystack/.venv/lib/python3.11/site-packages (from farm-haystack<2.0.0,>=1.24.0->ionic-haystack==0.1.3) (4.36.2)\n",
      "Requirement already satisfied: pyyaml<7.0,>=6.0 in /Users/jarod/Projects/ionic_haystack/.venv/lib/python3.11/site-packages (from prompthub-py==4.0.0->farm-haystack<2.0.0,>=1.24.0->ionic-haystack==0.1.3) (6.0.1)\n",
      "Requirement already satisfied: filelock in /Users/jarod/Projects/ionic_haystack/.venv/lib/python3.11/site-packages (from transformers==4.36.2->farm-haystack<2.0.0,>=1.24.0->ionic-haystack==0.1.3) (3.13.1)\n",
      "Requirement already satisfied: huggingface-hub<1.0,>=0.19.3 in /Users/jarod/Projects/ionic_haystack/.venv/lib/python3.11/site-packages (from transformers==4.36.2->farm-haystack<2.0.0,>=1.24.0->ionic-haystack==0.1.3) (0.20.3)\n",
      "Requirement already satisfied: numpy>=1.17 in /Users/jarod/Projects/ionic_haystack/.venv/lib/python3.11/site-packages (from transformers==4.36.2->farm-haystack<2.0.0,>=1.24.0->ionic-haystack==0.1.3) (1.24.4)\n",
      "Requirement already satisfied: packaging>=20.0 in /Users/jarod/Projects/ionic_haystack/.venv/lib/python3.11/site-packages (from transformers==4.36.2->farm-haystack<2.0.0,>=1.24.0->ionic-haystack==0.1.3) (23.2)\n",
      "Requirement already satisfied: regex!=2019.12.17 in /Users/jarod/Projects/ionic_haystack/.venv/lib/python3.11/site-packages (from transformers==4.36.2->farm-haystack<2.0.0,>=1.24.0->ionic-haystack==0.1.3) (2023.12.25)\n",
      "Requirement already satisfied: tokenizers<0.19,>=0.14 in /Users/jarod/Projects/ionic_haystack/.venv/lib/python3.11/site-packages (from transformers==4.36.2->farm-haystack<2.0.0,>=1.24.0->ionic-haystack==0.1.3) (0.15.1)\n",
      "Requirement already satisfied: safetensors>=0.3.1 in /Users/jarod/Projects/ionic_haystack/.venv/lib/python3.11/site-packages (from transformers==4.36.2->farm-haystack<2.0.0,>=1.24.0->ionic-haystack==0.1.3) (0.4.2)\n",
      "Requirement already satisfied: certifi>=2023.7.22 in /Users/jarod/Projects/ionic_haystack/.venv/lib/python3.11/site-packages (from Ionic-API-SDK<0.8.0,>=0.7.1->ionic-haystack==0.1.3) (2023.11.17)\n",
      "Requirement already satisfied: charset-normalizer>=3.2.0 in /Users/jarod/Projects/ionic_haystack/.venv/lib/python3.11/site-packages (from Ionic-API-SDK<0.8.0,>=0.7.1->ionic-haystack==0.1.3) (3.3.2)\n",
      "Requirement already satisfied: dataclasses-json>=0.6.1 in /Users/jarod/Projects/ionic_haystack/.venv/lib/python3.11/site-packages (from Ionic-API-SDK<0.8.0,>=0.7.1->ionic-haystack==0.1.3) (0.6.3)\n",
      "Requirement already satisfied: idna>=3.4 in /Users/jarod/Projects/ionic_haystack/.venv/lib/python3.11/site-packages (from Ionic-API-SDK<0.8.0,>=0.7.1->ionic-haystack==0.1.3) (3.6)\n",
      "Requirement already satisfied: jsonpath-python>=1.0.6 in /Users/jarod/Projects/ionic_haystack/.venv/lib/python3.11/site-packages (from Ionic-API-SDK<0.8.0,>=0.7.1->ionic-haystack==0.1.3) (1.0.6)\n",
      "Requirement already satisfied: marshmallow>=3.19.0 in /Users/jarod/Projects/ionic_haystack/.venv/lib/python3.11/site-packages (from Ionic-API-SDK<0.8.0,>=0.7.1->ionic-haystack==0.1.3) (3.20.2)\n",
      "Requirement already satisfied: mypy-extensions>=1.0.0 in /Users/jarod/Projects/ionic_haystack/.venv/lib/python3.11/site-packages (from Ionic-API-SDK<0.8.0,>=0.7.1->ionic-haystack==0.1.3) (1.0.0)\n",
      "Requirement already satisfied: python-dateutil>=2.8.2 in /Users/jarod/Projects/ionic_haystack/.venv/lib/python3.11/site-packages (from Ionic-API-SDK<0.8.0,>=0.7.1->ionic-haystack==0.1.3) (2.8.2)\n",
      "Requirement already satisfied: six>=1.16.0 in /Users/jarod/Projects/ionic_haystack/.venv/lib/python3.11/site-packages (from Ionic-API-SDK<0.8.0,>=0.7.1->ionic-haystack==0.1.3) (1.16.0)\n",
      "Requirement already satisfied: typing-inspect>=0.9.0 in /Users/jarod/Projects/ionic_haystack/.venv/lib/python3.11/site-packages (from Ionic-API-SDK<0.8.0,>=0.7.1->ionic-haystack==0.1.3) (0.9.0)\n",
      "Requirement already satisfied: typing-extensions>=4.7.1 in /Users/jarod/Projects/ionic_haystack/.venv/lib/python3.11/site-packages (from Ionic-API-SDK<0.8.0,>=0.7.1->ionic-haystack==0.1.3) (4.9.0)\n",
      "Requirement already satisfied: urllib3>=1.26.18 in /Users/jarod/Projects/ionic_haystack/.venv/lib/python3.11/site-packages (from Ionic-API-SDK<0.8.0,>=0.7.1->ionic-haystack==0.1.3) (2.2.0)\n",
      "Requirement already satisfied: appdirs>=1.4.4 in /Users/jarod/Projects/ionic_haystack/.venv/lib/python3.11/site-packages (from requests-cache<1.0.0->farm-haystack<2.0.0,>=1.24.0->ionic-haystack==0.1.3) (1.4.4)\n",
      "Requirement already satisfied: attrs>=21.2 in /Users/jarod/Projects/ionic_haystack/.venv/lib/python3.11/site-packages (from requests-cache<1.0.0->farm-haystack<2.0.0,>=1.24.0->ionic-haystack==0.1.3) (23.2.0)\n",
      "Requirement already satisfied: cattrs>=22.2 in /Users/jarod/Projects/ionic_haystack/.venv/lib/python3.11/site-packages (from requests-cache<1.0.0->farm-haystack<2.0.0,>=1.24.0->ionic-haystack==0.1.3) (23.2.3)\n",
      "Requirement already satisfied: url-normalize>=1.4 in /Users/jarod/Projects/ionic_haystack/.venv/lib/python3.11/site-packages (from requests-cache<1.0.0->farm-haystack<2.0.0,>=1.24.0->ionic-haystack==0.1.3) (1.4.3)\n",
      "Requirement already satisfied: scipy>=1.5.0 in /Users/jarod/Projects/ionic_haystack/.venv/lib/python3.11/site-packages (from scikit-learn>=1.3.0->farm-haystack<2.0.0,>=1.24.0->ionic-haystack==0.1.3) (1.9.3)\n",
      "Requirement already satisfied: joblib>=1.1.1 in /Users/jarod/Projects/ionic_haystack/.venv/lib/python3.11/site-packages (from scikit-learn>=1.3.0->farm-haystack<2.0.0,>=1.24.0->ionic-haystack==0.1.3) (1.3.2)\n",
      "Requirement already satisfied: threadpoolctl>=2.0.0 in /Users/jarod/Projects/ionic_haystack/.venv/lib/python3.11/site-packages (from scikit-learn>=1.3.0->farm-haystack<2.0.0,>=1.24.0->ionic-haystack==0.1.3) (3.2.0)\n",
      "Requirement already satisfied: anyio in /Users/jarod/Projects/ionic_haystack/.venv/lib/python3.11/site-packages (from httpx->farm-haystack<2.0.0,>=1.24.0->ionic-haystack==0.1.3) (4.2.0)\n",
      "Requirement already satisfied: httpcore==1.* in /Users/jarod/Projects/ionic_haystack/.venv/lib/python3.11/site-packages (from httpx->farm-haystack<2.0.0,>=1.24.0->ionic-haystack==0.1.3) (1.0.2)\n",
      "Requirement already satisfied: sniffio in /Users/jarod/Projects/ionic_haystack/.venv/lib/python3.11/site-packages (from httpx->farm-haystack<2.0.0,>=1.24.0->ionic-haystack==0.1.3) (1.3.0)\n",
      "Requirement already satisfied: h11<0.15,>=0.13 in /Users/jarod/Projects/ionic_haystack/.venv/lib/python3.11/site-packages (from httpcore==1.*->httpx->farm-haystack<2.0.0,>=1.24.0->ionic-haystack==0.1.3) (0.14.0)\n",
      "Requirement already satisfied: jsonschema-specifications>=2023.03.6 in /Users/jarod/Projects/ionic_haystack/.venv/lib/python3.11/site-packages (from jsonschema->farm-haystack<2.0.0,>=1.24.0->ionic-haystack==0.1.3) (2023.12.1)\n",
      "Requirement already satisfied: referencing>=0.28.4 in /Users/jarod/Projects/ionic_haystack/.venv/lib/python3.11/site-packages (from jsonschema->farm-haystack<2.0.0,>=1.24.0->ionic-haystack==0.1.3) (0.33.0)\n",
      "Requirement already satisfied: rpds-py>=0.7.1 in /Users/jarod/Projects/ionic_haystack/.venv/lib/python3.11/site-packages (from jsonschema->farm-haystack<2.0.0,>=1.24.0->ionic-haystack==0.1.3) (0.17.1)\n",
      "Requirement already satisfied: pytz>=2020.1 in /Users/jarod/Projects/ionic_haystack/.venv/lib/python3.11/site-packages (from pandas->farm-haystack<2.0.0,>=1.24.0->ionic-haystack==0.1.3) (2023.4)\n",
      "Requirement already satisfied: tzdata>=2022.1 in /Users/jarod/Projects/ionic_haystack/.venv/lib/python3.11/site-packages (from pandas->farm-haystack<2.0.0,>=1.24.0->ionic-haystack==0.1.3) (2023.4)\n",
      "Requirement already satisfied: monotonic>=1.5 in /Users/jarod/Projects/ionic_haystack/.venv/lib/python3.11/site-packages (from posthog->farm-haystack<2.0.0,>=1.24.0->ionic-haystack==0.1.3) (1.6)\n",
      "Requirement already satisfied: backoff>=1.10.0 in /Users/jarod/Projects/ionic_haystack/.venv/lib/python3.11/site-packages (from posthog->farm-haystack<2.0.0,>=1.24.0->ionic-haystack==0.1.3) (2.2.1)\n",
      "Requirement already satisfied: inflect in /Users/jarod/Projects/ionic_haystack/.venv/lib/python3.11/site-packages (from quantulum3->farm-haystack<2.0.0,>=1.24.0->ionic-haystack==0.1.3) (7.0.0)\n",
      "Requirement already satisfied: num2words in /Users/jarod/Projects/ionic_haystack/.venv/lib/python3.11/site-packages (from quantulum3->farm-haystack<2.0.0,>=1.24.0->ionic-haystack==0.1.3) (0.5.13)\n",
      "Requirement already satisfied: fsspec>=2023.5.0 in /Users/jarod/Projects/ionic_haystack/.venv/lib/python3.11/site-packages (from huggingface-hub<1.0,>=0.19.3->transformers==4.36.2->farm-haystack<2.0.0,>=1.24.0->ionic-haystack==0.1.3) (2023.12.2)\n",
      "Requirement already satisfied: docopt>=0.6.2 in /Users/jarod/Projects/ionic_haystack/.venv/lib/python3.11/site-packages (from num2words->quantulum3->farm-haystack<2.0.0,>=1.24.0->ionic-haystack==0.1.3) (0.6.2)\n",
      "Requirement already satisfied: Tensorflow in /Users/jarod/Projects/ionic_haystack/.venv/lib/python3.11/site-packages (2.15.0)\n",
      "Requirement already satisfied: tensorflow-macos==2.15.0 in /Users/jarod/Projects/ionic_haystack/.venv/lib/python3.11/site-packages (from Tensorflow) (2.15.0)\n",
      "Requirement already satisfied: absl-py>=1.0.0 in /Users/jarod/Projects/ionic_haystack/.venv/lib/python3.11/site-packages (from tensorflow-macos==2.15.0->Tensorflow) (2.1.0)\n",
      "Requirement already satisfied: astunparse>=1.6.0 in /Users/jarod/Projects/ionic_haystack/.venv/lib/python3.11/site-packages (from tensorflow-macos==2.15.0->Tensorflow) (1.6.3)\n",
      "Requirement already satisfied: flatbuffers>=23.5.26 in /Users/jarod/Projects/ionic_haystack/.venv/lib/python3.11/site-packages (from tensorflow-macos==2.15.0->Tensorflow) (23.5.26)\n",
      "Requirement already satisfied: gast!=0.5.0,!=0.5.1,!=0.5.2,>=0.2.1 in /Users/jarod/Projects/ionic_haystack/.venv/lib/python3.11/site-packages (from tensorflow-macos==2.15.0->Tensorflow) (0.5.4)\n",
      "Requirement already satisfied: google-pasta>=0.1.1 in /Users/jarod/Projects/ionic_haystack/.venv/lib/python3.11/site-packages (from tensorflow-macos==2.15.0->Tensorflow) (0.2.0)\n",
      "Requirement already satisfied: h5py>=2.9.0 in /Users/jarod/Projects/ionic_haystack/.venv/lib/python3.11/site-packages (from tensorflow-macos==2.15.0->Tensorflow) (3.10.0)\n",
      "Requirement already satisfied: libclang>=13.0.0 in /Users/jarod/Projects/ionic_haystack/.venv/lib/python3.11/site-packages (from tensorflow-macos==2.15.0->Tensorflow) (16.0.6)\n",
      "Requirement already satisfied: ml-dtypes~=0.2.0 in /Users/jarod/Projects/ionic_haystack/.venv/lib/python3.11/site-packages (from tensorflow-macos==2.15.0->Tensorflow) (0.2.0)\n",
      "Requirement already satisfied: numpy<2.0.0,>=1.23.5 in /Users/jarod/Projects/ionic_haystack/.venv/lib/python3.11/site-packages (from tensorflow-macos==2.15.0->Tensorflow) (1.24.4)\n",
      "Requirement already satisfied: opt-einsum>=2.3.2 in /Users/jarod/Projects/ionic_haystack/.venv/lib/python3.11/site-packages (from tensorflow-macos==2.15.0->Tensorflow) (3.3.0)\n",
      "Requirement already satisfied: packaging in /Users/jarod/Projects/ionic_haystack/.venv/lib/python3.11/site-packages (from tensorflow-macos==2.15.0->Tensorflow) (23.2)\n",
      "Requirement already satisfied: protobuf!=4.21.0,!=4.21.1,!=4.21.2,!=4.21.3,!=4.21.4,!=4.21.5,<5.0.0dev,>=3.20.3 in /Users/jarod/Projects/ionic_haystack/.venv/lib/python3.11/site-packages (from tensorflow-macos==2.15.0->Tensorflow) (4.23.4)\n",
      "Requirement already satisfied: setuptools in /Users/jarod/Projects/ionic_haystack/.venv/lib/python3.11/site-packages (from tensorflow-macos==2.15.0->Tensorflow) (69.0.2)\n",
      "Requirement already satisfied: six>=1.12.0 in /Users/jarod/Projects/ionic_haystack/.venv/lib/python3.11/site-packages (from tensorflow-macos==2.15.0->Tensorflow) (1.16.0)\n",
      "Requirement already satisfied: termcolor>=1.1.0 in /Users/jarod/Projects/ionic_haystack/.venv/lib/python3.11/site-packages (from tensorflow-macos==2.15.0->Tensorflow) (2.4.0)\n",
      "Requirement already satisfied: typing-extensions>=3.6.6 in /Users/jarod/Projects/ionic_haystack/.venv/lib/python3.11/site-packages (from tensorflow-macos==2.15.0->Tensorflow) (4.9.0)\n",
      "Requirement already satisfied: wrapt<1.15,>=1.11.0 in /Users/jarod/Projects/ionic_haystack/.venv/lib/python3.11/site-packages (from tensorflow-macos==2.15.0->Tensorflow) (1.14.1)\n",
      "Requirement already satisfied: tensorflow-io-gcs-filesystem>=0.23.1 in /Users/jarod/Projects/ionic_haystack/.venv/lib/python3.11/site-packages (from tensorflow-macos==2.15.0->Tensorflow) (0.34.0)\n",
      "Requirement already satisfied: grpcio<2.0,>=1.24.3 in /Users/jarod/Projects/ionic_haystack/.venv/lib/python3.11/site-packages (from tensorflow-macos==2.15.0->Tensorflow) (1.60.1)\n",
      "Requirement already satisfied: tensorboard<2.16,>=2.15 in /Users/jarod/Projects/ionic_haystack/.venv/lib/python3.11/site-packages (from tensorflow-macos==2.15.0->Tensorflow) (2.15.1)\n",
      "Requirement already satisfied: tensorflow-estimator<2.16,>=2.15.0 in /Users/jarod/Projects/ionic_haystack/.venv/lib/python3.11/site-packages (from tensorflow-macos==2.15.0->Tensorflow) (2.15.0)\n",
      "Requirement already satisfied: keras<2.16,>=2.15.0 in /Users/jarod/Projects/ionic_haystack/.venv/lib/python3.11/site-packages (from tensorflow-macos==2.15.0->Tensorflow) (2.15.0)\n",
      "Requirement already satisfied: wheel<1.0,>=0.23.0 in /Users/jarod/Projects/ionic_haystack/.venv/lib/python3.11/site-packages (from astunparse>=1.6.0->tensorflow-macos==2.15.0->Tensorflow) (0.42.0)\n",
      "Requirement already satisfied: google-auth<3,>=1.6.3 in /Users/jarod/Projects/ionic_haystack/.venv/lib/python3.11/site-packages (from tensorboard<2.16,>=2.15->tensorflow-macos==2.15.0->Tensorflow) (2.27.0)\n",
      "Requirement already satisfied: google-auth-oauthlib<2,>=0.5 in /Users/jarod/Projects/ionic_haystack/.venv/lib/python3.11/site-packages (from tensorboard<2.16,>=2.15->tensorflow-macos==2.15.0->Tensorflow) (1.2.0)\n",
      "Requirement already satisfied: markdown>=2.6.8 in /Users/jarod/Projects/ionic_haystack/.venv/lib/python3.11/site-packages (from tensorboard<2.16,>=2.15->tensorflow-macos==2.15.0->Tensorflow) (3.5.2)\n",
      "Requirement already satisfied: requests<3,>=2.21.0 in /Users/jarod/Projects/ionic_haystack/.venv/lib/python3.11/site-packages (from tensorboard<2.16,>=2.15->tensorflow-macos==2.15.0->Tensorflow) (2.31.0)\n",
      "Requirement already satisfied: tensorboard-data-server<0.8.0,>=0.7.0 in /Users/jarod/Projects/ionic_haystack/.venv/lib/python3.11/site-packages (from tensorboard<2.16,>=2.15->tensorflow-macos==2.15.0->Tensorflow) (0.7.2)\n",
      "Requirement already satisfied: werkzeug>=1.0.1 in /Users/jarod/Projects/ionic_haystack/.venv/lib/python3.11/site-packages (from tensorboard<2.16,>=2.15->tensorflow-macos==2.15.0->Tensorflow) (3.0.1)\n",
      "Requirement already satisfied: cachetools<6.0,>=2.0.0 in /Users/jarod/Projects/ionic_haystack/.venv/lib/python3.11/site-packages (from google-auth<3,>=1.6.3->tensorboard<2.16,>=2.15->tensorflow-macos==2.15.0->Tensorflow) (5.3.2)\n",
      "Requirement already satisfied: pyasn1-modules>=0.2.1 in /Users/jarod/Projects/ionic_haystack/.venv/lib/python3.11/site-packages (from google-auth<3,>=1.6.3->tensorboard<2.16,>=2.15->tensorflow-macos==2.15.0->Tensorflow) (0.3.0)\n",
      "Requirement already satisfied: rsa<5,>=3.1.4 in /Users/jarod/Projects/ionic_haystack/.venv/lib/python3.11/site-packages (from google-auth<3,>=1.6.3->tensorboard<2.16,>=2.15->tensorflow-macos==2.15.0->Tensorflow) (4.9)\n",
      "Requirement already satisfied: requests-oauthlib>=0.7.0 in /Users/jarod/Projects/ionic_haystack/.venv/lib/python3.11/site-packages (from google-auth-oauthlib<2,>=0.5->tensorboard<2.16,>=2.15->tensorflow-macos==2.15.0->Tensorflow) (1.3.1)\n",
      "Requirement already satisfied: charset-normalizer<4,>=2 in /Users/jarod/Projects/ionic_haystack/.venv/lib/python3.11/site-packages (from requests<3,>=2.21.0->tensorboard<2.16,>=2.15->tensorflow-macos==2.15.0->Tensorflow) (3.3.2)\n",
      "Requirement already satisfied: idna<4,>=2.5 in /Users/jarod/Projects/ionic_haystack/.venv/lib/python3.11/site-packages (from requests<3,>=2.21.0->tensorboard<2.16,>=2.15->tensorflow-macos==2.15.0->Tensorflow) (3.6)\n",
      "Requirement already satisfied: urllib3<3,>=1.21.1 in /Users/jarod/Projects/ionic_haystack/.venv/lib/python3.11/site-packages (from requests<3,>=2.21.0->tensorboard<2.16,>=2.15->tensorflow-macos==2.15.0->Tensorflow) (2.2.0)\n",
      "Requirement already satisfied: certifi>=2017.4.17 in /Users/jarod/Projects/ionic_haystack/.venv/lib/python3.11/site-packages (from requests<3,>=2.21.0->tensorboard<2.16,>=2.15->tensorflow-macos==2.15.0->Tensorflow) (2023.11.17)\n",
      "Requirement already satisfied: MarkupSafe>=2.1.1 in /Users/jarod/Projects/ionic_haystack/.venv/lib/python3.11/site-packages (from werkzeug>=1.0.1->tensorboard<2.16,>=2.15->tensorflow-macos==2.15.0->Tensorflow) (2.1.4)\n",
      "Requirement already satisfied: pyasn1<0.6.0,>=0.4.6 in /Users/jarod/Projects/ionic_haystack/.venv/lib/python3.11/site-packages (from pyasn1-modules>=0.2.1->google-auth<3,>=1.6.3->tensorboard<2.16,>=2.15->tensorflow-macos==2.15.0->Tensorflow) (0.5.1)\n",
      "Requirement already satisfied: oauthlib>=3.0.0 in /Users/jarod/Projects/ionic_haystack/.venv/lib/python3.11/site-packages (from requests-oauthlib>=0.7.0->google-auth-oauthlib<2,>=0.5->tensorboard<2.16,>=2.15->tensorflow-macos==2.15.0->Tensorflow) (3.2.2)\n"
     ]
    }
   ],
   "source": [
    "%%bash\n",
    "\n",
    "pip install --upgrade pip\n",
    "pip install farm-haystack[colab]\n",
    "pip install ionic-haystack==0.1.3\n",
    "pip install Tensorflow"
   ],
   "metadata": {
    "id": "90a357143a03baed",
    "ExecuteTime": {
     "end_time": "2024-02-01T19:24:10.475409Z",
     "start_time": "2024-02-01T19:24:05.056637Z"
    }
   },
   "id": "90a357143a03baed",
   "execution_count": 6
  },
  {
   "cell_type": "markdown",
   "source": [
    "### Set up your OpenAI API Key"
   ],
   "metadata": {
    "collapsed": false,
    "id": "e4ed27dec15d4980"
   },
   "id": "e4ed27dec15d4980"
  },
  {
   "cell_type": "code",
   "outputs": [],
   "source": [
    "import os\n",
    "\n",
    "openai_api_key = os.getenv(\"OPENAI_API_KEY\") "
   ],
   "metadata": {
    "collapsed": false,
    "ExecuteTime": {
     "end_time": "2024-02-01T19:24:14.582100Z",
     "start_time": "2024-02-01T19:24:14.579093Z"
    }
   },
   "id": "4088dbf7a5c2c14d",
   "execution_count": 7
  },
  {
   "cell_type": "markdown",
   "source": [
    "### Configure your agent with the Ionic Commerce Tool"
   ],
   "metadata": {
    "collapsed": false
   },
   "id": "67ee2308255a900f"
  },
  {
   "cell_type": "code",
   "outputs": [],
   "source": [
    "from haystack.agents import Tool\n",
    "from haystack.agents.conversational import ConversationalAgent\n",
    "from haystack.agents.memory import ConversationMemory\n",
    "from haystack.nodes import PromptNode\n",
    "\n",
    "from ionic_haystack.tool import IonicShoppingTool\n",
    "\n",
    "ionic_node = IonicShoppingTool(api_key=\"my_ionic_api_key\")\n",
    "ionic_tool = Tool(\n",
    "    name=\"Ionic\",\n",
    "    pipeline_or_node=ionic_node,\n",
    "    description=\"Ionic is a tool to help you find the best products for your needs.\",\n",
    ")\n",
    "\n",
    "memory = ConversationMemory()\n",
    "prompt_node = PromptNode(\"gpt-3.5-turbo\", api_key=openai_api_key, max_length=256, stop_words=[\"Observation:\"])\n",
    "agent = ConversationalAgent(prompt_node, tools=[ionic_tool],  memory=memory, prompt_template=\"deepset/conversational-agent\")\n"
   ],
   "metadata": {
    "id": "e35016eb73193b51",
    "ExecuteTime": {
     "end_time": "2024-02-01T19:24:17.499689Z",
     "start_time": "2024-02-01T19:24:17.489999Z"
    }
   },
   "id": "e35016eb73193b51",
   "execution_count": 8
  },
  {
   "cell_type": "markdown",
   "source": [
    "### Run the agent"
   ],
   "metadata": {
    "collapsed": false
   },
   "id": "6929ea647b71e234"
  },
  {
   "cell_type": "code",
   "outputs": [
    {
     "name": "stdout",
     "output_type": "stream",
     "text": [
      "\n",
      "Agent deepset/conversational-agent started with {'query': \"I'm looking for a 5k monitor\", 'params': None}\n",
      "\u001B[32mThe\u001B[0m\u001B[32m user\u001B[0m\u001B[32m is\u001B[0m\u001B[32m looking\u001B[0m\u001B[32m for\u001B[0m\u001B[32m a\u001B[0m\u001B[32m \u001B[0m\u001B[32m5\u001B[0m\u001B[32mk\u001B[0m\u001B[32m monitor\u001B[0m\u001B[32m.\u001B[0m\u001B[32m I\u001B[0m\u001B[32m can\u001B[0m\u001B[32m start\u001B[0m\u001B[32m by\u001B[0m\u001B[32m checking\u001B[0m\u001B[32m online\u001B[0m\u001B[32m retailers\u001B[0m\u001B[32m for\u001B[0m\u001B[32m available\u001B[0m\u001B[32m \u001B[0m\u001B[32m5\u001B[0m\u001B[32mk\u001B[0m\u001B[32m monitors\u001B[0m\u001B[32m.\u001B[0m\u001B[32m If\u001B[0m\u001B[32m I\u001B[0m\u001B[32m can\u001B[0m\u001B[32m't\u001B[0m\u001B[32m find\u001B[0m\u001B[32m any\u001B[0m\u001B[32m,\u001B[0m\u001B[32m I\u001B[0m\u001B[32m can\u001B[0m\u001B[32m use\u001B[0m\u001B[32m Ionic\u001B[0m\u001B[32m to\u001B[0m\u001B[32m help\u001B[0m\u001B[32m find\u001B[0m\u001B[32m the\u001B[0m\u001B[32m best\u001B[0m\u001B[32m options\u001B[0m\u001B[32m for\u001B[0m\u001B[32m the\u001B[0m\u001B[32m user\u001B[0m\u001B[32m's\u001B[0m\u001B[32m needs\u001B[0m\u001B[32m.\n",
      "\u001B[0m\u001B[32mTool\u001B[0m\u001B[32m:\u001B[0m\u001B[32m Ionic\u001B[0m\u001B[32m\n",
      "\u001B[0m\u001B[32mTool\u001B[0m\u001B[32m Input\u001B[0m\u001B[32m:\u001B[0m\u001B[32m \u001B[0m\u001B[32m5\u001B[0m\u001B[32mk\u001B[0m\u001B[32m monitor\u001B[0m\u001B[32m\n",
      "\u001B[0mObservation: \u001B[33mProduct(links=[Link(text='Details', type='pdp', url='https://www.amazon.com/dp/B0CB71BY87?tag=ioniccommer00-20&linkCode=osi&th=1&psc=1')], merchant_name='Amazon', merchant_product_id='B0CB71BY87', name='SAMSUNG 27\" ViewFinity S9 Series 5K Computer Monitor, Thunderbolt 4, DisplayPort, Matte Display, 4K Slimfit-Camera, Slim Metal Design, AirPlay, Smart-TV Apps, Gaming Hub, LS27C900PANXZA, 2023', price='$999.99', status='available', thumbnail='https://m.media-amazon.com/images/I/41Wy2hc5P2L._SL160_.jpg', brand_name='SAMSUNG', upc=None)\u001B[0m\n",
      "Thought: \u001B[32mIonic\u001B[0m\u001B[32m has\u001B[0m\u001B[32m found\u001B[0m\u001B[32m a\u001B[0m\u001B[32m \u001B[0m\u001B[32m5\u001B[0m\u001B[32mk\u001B[0m\u001B[32m monitor\u001B[0m\u001B[32m available\u001B[0m\u001B[32m on\u001B[0m\u001B[32m Amazon\u001B[0m\u001B[32m.\u001B[0m\u001B[32m Here\u001B[0m\u001B[32m are\u001B[0m\u001B[32m the\u001B[0m\u001B[32m details\u001B[0m\u001B[32m:\n",
      "\n",
      "\u001B[0m\u001B[32m-\u001B[0m\u001B[32m Name\u001B[0m\u001B[32m:\u001B[0m\u001B[32m S\u001B[0m\u001B[32mAMS\u001B[0m\u001B[32mUNG\u001B[0m\u001B[32m \u001B[0m\u001B[32m27\u001B[0m\u001B[32m\"\u001B[0m\u001B[32m View\u001B[0m\u001B[32mFin\u001B[0m\u001B[32mity\u001B[0m\u001B[32m S\u001B[0m\u001B[32m9\u001B[0m\u001B[32m Series\u001B[0m\u001B[32m \u001B[0m\u001B[32m5\u001B[0m\u001B[32mK\u001B[0m\u001B[32m Computer\u001B[0m\u001B[32m Monitor\u001B[0m\u001B[32m\n",
      "\u001B[0m\u001B[32m-\u001B[0m\u001B[32m Price\u001B[0m\u001B[32m:\u001B[0m\u001B[32m $\u001B[0m\u001B[32m999\u001B[0m\u001B[32m.\u001B[0m\u001B[32m99\u001B[0m\u001B[32m\n",
      "\u001B[0m\u001B[32m-\u001B[0m\u001B[32m Merchant\u001B[0m\u001B[32m:\u001B[0m\u001B[32m Amazon\u001B[0m\u001B[32m\n",
      "\u001B[0m\u001B[32m-\u001B[0m\u001B[32m Product\u001B[0m\u001B[32m Link\u001B[0m\u001B[32m:\u001B[0m\u001B[32m [\u001B[0m\u001B[32mDetails\u001B[0m\u001B[32m](\u001B[0m\u001B[32mhttps\u001B[0m\u001B[32m://\u001B[0m\u001B[32mwww\u001B[0m\u001B[32m.amazon\u001B[0m\u001B[32m.com\u001B[0m\u001B[32m/d\u001B[0m\u001B[32mp\u001B[0m\u001B[32m/B\u001B[0m\u001B[32m0\u001B[0m\u001B[32mCB\u001B[0m\u001B[32m71\u001B[0m\u001B[32mBY\u001B[0m\u001B[32m87\u001B[0m\u001B[32m?\u001B[0m\u001B[32mtag\u001B[0m\u001B[32m=\u001B[0m\u001B[32mionic\u001B[0m\u001B[32mcom\u001B[0m\u001B[32mmer\u001B[0m\u001B[32m00\u001B[0m\u001B[32m-\u001B[0m\u001B[32m20\u001B[0m\u001B[32m&\u001B[0m\u001B[32mlink\u001B[0m\u001B[32mCode\u001B[0m\u001B[32m=\u001B[0m\u001B[32mosi\u001B[0m\u001B[32m&\u001B[0m\u001B[32mth\u001B[0m\u001B[32m=\u001B[0m\u001B[32m1\u001B[0m\u001B[32m&\u001B[0m\u001B[32mpsc\u001B[0m\u001B[32m=\u001B[0m\u001B[32m1\u001B[0m\u001B[32m)\n",
      "\n",
      "\u001B[0m\u001B[32mFinal\u001B[0m\u001B[32m Answer\u001B[0m\u001B[32m:\u001B[0m\u001B[32m The\u001B[0m\u001B[32m S\u001B[0m\u001B[32mAMS\u001B[0m\u001B[32mUNG\u001B[0m\u001B[32m \u001B[0m\u001B[32m27\u001B[0m\u001B[32m\"\u001B[0m\u001B[32m View\u001B[0m\u001B[32mFin\u001B[0m\u001B[32mity\u001B[0m\u001B[32m S\u001B[0m\u001B[32m9\u001B[0m\u001B[32m Series\u001B[0m\u001B[32m \u001B[0m\u001B[32m5\u001B[0m\u001B[32mK\u001B[0m\u001B[32m Computer\u001B[0m\u001B[32m Monitor\u001B[0m\u001B[32m is\u001B[0m\u001B[32m available\u001B[0m\u001B[32m for\u001B[0m\u001B[32m purchase\u001B[0m\u001B[32m on\u001B[0m\u001B[32m Amazon\u001B[0m\u001B[32m.\u001B[0m{'query': \"I'm looking for a 5k monitor\", 'answers': [<Answer {'answer': 'The SAMSUNG 27\" ViewFinity S9 Series 5K Computer Monitor is available for purchase on Amazon.', 'type': 'generative', 'score': None, 'context': None, 'offsets_in_document': None, 'offsets_in_context': None, 'document_ids': None, 'meta': {}}>], 'transcript': 'The user is looking for a 5k monitor. I can start by checking online retailers for available 5k monitors. If I can\\'t find any, I can use Ionic to help find the best options for the user\\'s needs.\\nTool: Ionic\\nTool Input: 5k monitor\\nObservation: Product(links=[Link(text=\\'Details\\', type=\\'pdp\\', url=\\'https://www.amazon.com/dp/B0CB71BY87?tag=ioniccommer00-20&linkCode=osi&th=1&psc=1\\')], merchant_name=\\'Amazon\\', merchant_product_id=\\'B0CB71BY87\\', name=\\'SAMSUNG 27\" ViewFinity S9 Series 5K Computer Monitor, Thunderbolt 4, DisplayPort, Matte Display, 4K Slimfit-Camera, Slim Metal Design, AirPlay, Smart-TV Apps, Gaming Hub, LS27C900PANXZA, 2023\\', price=\\'$999.99\\', status=\\'available\\', thumbnail=\\'https://m.media-amazon.com/images/I/41Wy2hc5P2L._SL160_.jpg\\', brand_name=\\'SAMSUNG\\', upc=None)\\nThought:Ionic has found a 5k monitor available on Amazon. Here are the details:\\n\\n- Name: SAMSUNG 27\" ViewFinity S9 Series 5K Computer Monitor\\n- Price: $999.99\\n- Merchant: Amazon\\n- Product Link: [Details](https://www.amazon.com/dp/B0CB71BY87?tag=ioniccommer00-20&linkCode=osi&th=1&psc=1)\\n\\nFinal Answer: The SAMSUNG 27\" ViewFinity S9 Series 5K Computer Monitor is available for purchase on Amazon.'}\n"
     ]
    }
   ],
   "source": [
    "print(agent.run(query=\"I'm looking for a 5k monitor\"))"
   ],
   "metadata": {
    "id": "caa4d0ce703a5259",
    "ExecuteTime": {
     "end_time": "2024-02-01T19:24:29.646551Z",
     "start_time": "2024-02-01T19:24:23.612173Z"
    }
   },
   "id": "caa4d0ce703a5259",
   "execution_count": 9
  },
  {
   "cell_type": "code",
   "outputs": [],
   "source": [],
   "metadata": {
    "collapsed": false
   },
   "id": "fc72c38a98a14aa"
  }
 ],
 "metadata": {
  "kernelspec": {
   "display_name": "Python 3",
   "language": "python",
   "name": "python3"
  },
  "language_info": {
   "codemirror_mode": {
    "name": "ipython",
    "version": 2
   },
   "file_extension": ".py",
   "mimetype": "text/x-python",
   "name": "python",
   "nbconvert_exporter": "python",
   "pygments_lexer": "ipython2",
   "version": "2.7.6"
  },
  "colab": {
   "provenance": []
  }
 },
 "nbformat": 4,
 "nbformat_minor": 5
}
