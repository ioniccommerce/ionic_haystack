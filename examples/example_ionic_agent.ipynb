{
 "cells": [
  {
   "cell_type": "markdown",
   "source": [
    "# Ionic Commerce Tool for Haystack\n",
    "\n",
    "[![Open In Colab](https://colab.research.google.com/assets/colab-badge.svg)](https://colab.research.google.com/github/ioniccommerce/ionic_haystack/blob/main/examples/example_ionic_agent.ipynb)\n"
   ],
   "metadata": {
    "collapsed": false,
    "id": "e2484f9d54d39cf8"
   },
   "id": "e2484f9d54d39cf8"
  },
  {
   "cell_type": "code",
   "outputs": [],
   "source": [
    "%%bash\n",
    "\n",
    "pip install --upgrade pip\n",
    "pip install farm-haystack[colab]\n",
    "pip install ionic-haystack==0.1.3\n",
    "pip install Tensorflow"
   ],
   "metadata": {
    "id": "90a357143a03baed"
   },
   "id": "90a357143a03baed",
   "execution_count": null
  },
  {
   "cell_type": "markdown",
   "source": [
    "### Set up your OpenAI API Key"
   ],
   "metadata": {
    "collapsed": false,
    "id": "e4ed27dec15d4980"
   },
   "id": "e4ed27dec15d4980"
  },
  {
   "cell_type": "code",
   "outputs": [],
   "source": [
    "import os\n",
    "\n",
    "openai_api_key = os.getenv(\"OPENAI_API_KEY\") "
   ],
   "metadata": {
    "collapsed": false
   },
   "id": "4088dbf7a5c2c14d",
   "execution_count": null
  },
  {
   "cell_type": "markdown",
   "source": [
    "### Configure your agent with the Ionic Commerce Tool"
   ],
   "metadata": {
    "collapsed": false
   },
   "id": "67ee2308255a900f"
  },
  {
   "cell_type": "code",
   "outputs": [],
   "source": [
    "from haystack.agents import Tool\n",
    "from haystack.agents.conversational import ConversationalAgent\n",
    "from haystack.agents.memory import ConversationMemory\n",
    "from haystack.nodes import PromptNode\n",
    "\n",
    "from ionic_haystack.prompt_templates import ionic_template\n",
    "from ionic_haystack.tool import IonicShoppingTool\n",
    "\n",
    "ionic_node = IonicShoppingTool(api_key=\"my_ionic_api_key\")\n",
    "ionic_tool = Tool(\n",
    "    name=\"Ionic\",\n",
    "    pipeline_or_node=ionic_node,\n",
    "    description=ionic_template\n",
    ")\n",
    "\n",
    "memory = ConversationMemory()\n",
    "prompt_node = PromptNode(\"gpt-3.5-turbo\", api_key=openai_api_key, max_length=256, stop_words=[\"Observation:\"])\n",
    "agent = ConversationalAgent(prompt_node, tools=[ionic_tool],  memory=memory, prompt_template=\"deepset/conversational-agent\")\n"
   ],
   "metadata": {
    "id": "e35016eb73193b51"
   },
   "id": "e35016eb73193b51",
   "execution_count": null
  },
  {
   "cell_type": "markdown",
   "source": [
    "### Run the agent"
   ],
   "metadata": {
    "collapsed": false
   },
   "id": "6929ea647b71e234"
  },
  {
   "cell_type": "code",
   "outputs": [],
   "source": [
    "print(agent.run(query=\"I'm shopping for a 4k monitor between $600 and $1000\"))"
   ],
   "metadata": {
    "id": "caa4d0ce703a5259"
   },
   "id": "caa4d0ce703a5259",
   "execution_count": null
  },
  {
   "cell_type": "code",
   "outputs": [],
   "source": [],
   "metadata": {
    "collapsed": false
   },
   "id": "e11aa014c7a92bf8"
  }
 ],
 "metadata": {
  "kernelspec": {
   "display_name": "Python 3",
   "language": "python",
   "name": "python3"
  },
  "language_info": {
   "codemirror_mode": {
    "name": "ipython",
    "version": 2
   },
   "file_extension": ".py",
   "mimetype": "text/x-python",
   "name": "python",
   "nbconvert_exporter": "python",
   "pygments_lexer": "ipython2",
   "version": "2.7.6"
  },
  "colab": {
   "provenance": []
  }
 },
 "nbformat": 4,
 "nbformat_minor": 5
}
