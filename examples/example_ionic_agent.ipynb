{
 "cells": [
  {
   "cell_type": "markdown",
   "source": [
    "# Ionic Commerce Tool for Haystack\n"
   ],
   "metadata": {
    "collapsed": false
   },
   "id": "e2484f9d54d39cf8"
  },
  {
   "cell_type": "code",
   "outputs": [],
   "source": [
    "!pip install farm-haystack"
   ],
   "metadata": {
    "collapsed": false,
    "is_executing": true
   },
   "id": "90a357143a03baed"
  },
  {
   "cell_type": "markdown",
   "source": [],
   "metadata": {
    "collapsed": false
   },
   "id": "e4ed27dec15d4980"
  },
  {
   "cell_type": "code",
   "outputs": [],
   "source": [
    "import os\n",
    "\n",
    "from haystack.agents import Tool\n",
    "from haystack.agents.conversational import ConversationalAgent\n",
    "from haystack.agents.memory import ConversationSummaryMemory\n",
    "from haystack.nodes import PromptNode\n",
    "\n",
    "from ionic_haystack.tool import IonicShoppingTool\n",
    "\n",
    "openai__api_key = os.environ.get(\"OPENAI_API_KEY\")\n",
    "\n",
    "ionic_node = IonicShoppingTool(api_key=\"my_ionic_api_key\")\n",
    "ionic_tool = Tool(\n",
    "    name=\"Ionic\",\n",
    "    pipeline_or_node=ionic_node,\n",
    "    description=\"Ionic is a tool to help you find the best products for your needs.\",\n",
    ")\n",
    "\n",
    "prompt_node = PromptNode(\"gpt-3.5-turbo\", api_key=openai__api_key, max_length=256)\n",
    "summary_memory = ConversationSummaryMemory(prompt_node)\n",
    "agent = ConversationalAgent(prompt_node, tools=[ionic_tool],  memory=summary_memory)\n",
    "agent.add_tool(ionic_tool)\n",
    "\n",
    "print(agent.run(query=\"I'm looking for a 5k monitor can you find me 3 options between $600 and $1000\"))"
   ],
   "metadata": {
    "collapsed": false,
    "is_executing": true
   },
   "id": "e35016eb73193b51",
   "execution_count": null
  },
  {
   "cell_type": "code",
   "outputs": [],
   "source": [],
   "metadata": {
    "collapsed": false
   },
   "id": "caa4d0ce703a5259"
  }
 ],
 "metadata": {
  "kernelspec": {
   "display_name": "Python 3",
   "language": "python",
   "name": "python3"
  },
  "language_info": {
   "codemirror_mode": {
    "name": "ipython",
    "version": 2
   },
   "file_extension": ".py",
   "mimetype": "text/x-python",
   "name": "python",
   "nbconvert_exporter": "python",
   "pygments_lexer": "ipython2",
   "version": "2.7.6"
  }
 },
 "nbformat": 4,
 "nbformat_minor": 5
}
